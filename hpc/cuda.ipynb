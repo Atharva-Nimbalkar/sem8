{
  "nbformat": 4,
  "nbformat_minor": 0,
  "metadata": {
    "colab": {
      "provenance": [],
      "gpuType": "T4"
    },
    "kernelspec": {
      "name": "python3",
      "display_name": "Python 3"
    },
    "language_info": {
      "name": "python"
    },
    "accelerator": "GPU"
  },
  "cells": [
    {
      "cell_type": "code",
      "source": [
        "!nvcc --version\n"
      ],
      "metadata": {
        "colab": {
          "base_uri": "https://localhost:8080/"
        },
        "id": "vG3Q1qf2joqu",
        "outputId": "9a73b54a-60ba-401a-ade3-aacfacd60b9a"
      },
      "execution_count": 2,
      "outputs": [
        {
          "output_type": "stream",
          "name": "stdout",
          "text": [
            "nvcc: NVIDIA (R) Cuda compiler driver\n",
            "Copyright (c) 2005-2024 NVIDIA Corporation\n",
            "Built on Thu_Jun__6_02:18:23_PDT_2024\n",
            "Cuda compilation tools, release 12.5, V12.5.82\n",
            "Build cuda_12.5.r12.5/compiler.34385749_0\n"
          ]
        }
      ]
    },
    {
      "cell_type": "code",
      "source": [
        "%%writefile add.cu\n",
        "#include <iostream>\n",
        "#include <cstdlib>\n",
        "#include <cuda_runtime.h>\n",
        "\n",
        "#define N 4\n",
        "\n",
        "__global__ void add(int* A, int* B, int* C, int size) {\n",
        "    int tid = blockIdx.x * blockDim.x + threadIdx.x;\n",
        "    if (tid < size) {\n",
        "        C[tid] = A[tid] + B[tid];\n",
        "    }\n",
        "}\n",
        "\n",
        "int main() {\n",
        "    int A[N], B[N], C[N];\n",
        "\n",
        "    // Initialize input arrays\n",
        "    for (int i = 0; i < N; i++) {\n",
        "        A[i] = rand() % 10;\n",
        "        B[i] = rand() % 10;\n",
        "    }\n",
        "\n",
        "    // Print input arrays\n",
        "    std::cout << \"A: \";\n",
        "    for (int i = 0; i < N; i++) std::cout << A[i] << \" \";\n",
        "    std::cout << \"\\nB: \";\n",
        "    for (int i = 0; i < N; i++) std::cout << B[i] << \" \";\n",
        "    std::cout << std::endl;\n",
        "\n",
        "    // Allocate device memory\n",
        "    int *dA, *dB, *dC;\n",
        "    size_t bytes = N * sizeof(int);\n",
        "    cudaMalloc(&dA, bytes);\n",
        "    cudaMalloc(&dB, bytes);\n",
        "    cudaMalloc(&dC, bytes);\n",
        "\n",
        "    // Copy data to device\n",
        "    cudaMemcpy(dA, A, bytes, cudaMemcpyHostToDevice);\n",
        "    cudaMemcpy(dB, B, bytes, cudaMemcpyHostToDevice);\n",
        "\n",
        "    // Launch kernel\n",
        "    int threadsPerBlock = 256;\n",
        "    int blocksPerGrid = (N + threadsPerBlock - 1) / threadsPerBlock;\n",
        "    add<<<blocksPerGrid, threadsPerBlock>>>(dA, dB, dC, N);\n",
        "    cudaDeviceSynchronize();\n",
        "\n",
        "    // Copy result back\n",
        "    cudaMemcpy(C, dC, bytes, cudaMemcpyDeviceToHost);\n",
        "\n",
        "    // Print result\n",
        "    std::cout << \"C: \";\n",
        "    for (int i = 0; i < N; i++) std::cout << C[i] << \" \";\n",
        "    std::cout << std::endl;\n",
        "\n",
        "    // Cleanup\n",
        "    cudaFree(dA);\n",
        "    cudaFree(dB);\n",
        "    cudaFree(dC);\n",
        "\n",
        "    return 0;\n",
        "}\n"
      ],
      "metadata": {
        "colab": {
          "base_uri": "https://localhost:8080/"
        },
        "id": "PTg7GexAjotR",
        "outputId": "1160c4cf-9b33-4cb3-bed5-b23a93fcdae9"
      },
      "execution_count": 9,
      "outputs": [
        {
          "output_type": "stream",
          "name": "stdout",
          "text": [
            "Overwriting add.cu\n"
          ]
        }
      ]
    },
    {
      "cell_type": "code",
      "source": [
        "!nvcc -arch=sm_75 add.cu -o add"
      ],
      "metadata": {
        "id": "kZsq-ZAjjb6P"
      },
      "execution_count": 11,
      "outputs": []
    },
    {
      "cell_type": "code",
      "source": [
        "!./add\n"
      ],
      "metadata": {
        "colab": {
          "base_uri": "https://localhost:8080/"
        },
        "id": "mXoZ9uSRlHgj",
        "outputId": "aaa25b64-9356-44ab-e278-562d6da5d677"
      },
      "execution_count": 13,
      "outputs": [
        {
          "output_type": "stream",
          "name": "stdout",
          "text": [
            "A: 3 7 3 6 \n",
            "B: 6 5 5 2 \n",
            "C: 9 12 8 8 \n"
          ]
        }
      ]
    },
    {
      "cell_type": "code",
      "source": [
        "%%writefile matrix.cu\n",
        "#include <iostream>\n",
        "#define N 2\n",
        "\n",
        "__global__ void matrixMul(int *A, int *B, int *C, int n) {\n",
        "    int row = threadIdx.y + blockIdx.y * blockDim.y;\n",
        "    int col = threadIdx.x + blockIdx.x * blockDim.x;\n",
        "\n",
        "    if (row < n && col < n) {\n",
        "        int sum = 0;\n",
        "        for (int k = 0; k < n; k++)\n",
        "            sum += A[row * n + k] * B[k * n + col];\n",
        "        C[row * n + col] = sum;\n",
        "    }\n",
        "}\n",
        "\n",
        "int main() {\n",
        "    int A[N*N], B[N*N], C[N*N];\n",
        "    for (int i = 0; i < N*N; i++) {\n",
        "        A[i] = i;\n",
        "        B[i] = i;\n",
        "    }\n",
        "\n",
        "    int *dA, *dB, *dC;\n",
        "    size_t bytes = N * N * sizeof(int);\n",
        "    cudaMalloc(&dA, bytes);\n",
        "    cudaMalloc(&dB, bytes);\n",
        "    cudaMalloc(&dC, bytes);\n",
        "\n",
        "    cudaMemcpy(dA, A, bytes, cudaMemcpyHostToDevice);\n",
        "    cudaMemcpy(dB, B, bytes, cudaMemcpyHostToDevice);\n",
        "\n",
        "    dim3 threads(16, 16);\n",
        "    dim3 blocks((N + 15) / 16, (N + 15) / 16);\n",
        "    matrixMul<<<blocks, threads>>>(dA, dB, dC, N);\n",
        "    cudaMemcpy(C, dC, bytes, cudaMemcpyDeviceToHost);\n",
        "\n",
        "    std::cout << \"Matrix C:\\n\";\n",
        "    for (int i = 0; i < N * N; i++) {\n",
        "        std::cout << C[i] << \" \";\n",
        "        if ((i + 1) % N == 0) std::cout << \"\\n\";\n",
        "    }\n",
        "\n",
        "    cudaFree(dA);\n",
        "    cudaFree(dB);\n",
        "    cudaFree(dC);\n",
        "\n",
        "    return 0;\n",
        "}\n"
      ],
      "metadata": {
        "colab": {
          "base_uri": "https://localhost:8080/"
        },
        "id": "_tnBwFH2kYvK",
        "outputId": "1200e990-5e33-4934-f0d5-437d81ab4292"
      },
      "execution_count": 23,
      "outputs": [
        {
          "output_type": "stream",
          "name": "stdout",
          "text": [
            "Overwriting matrix.cu\n"
          ]
        }
      ]
    },
    {
      "cell_type": "code",
      "source": [
        "\n",
        "!nvcc -arch=sm_70 matrix.cu -o matrix\n",
        "!./matrix"
      ],
      "metadata": {
        "colab": {
          "base_uri": "https://localhost:8080/"
        },
        "id": "qNz7UzFHwmT4",
        "outputId": "752a5e6d-617e-402f-81f3-8c4af282c124"
      },
      "execution_count": 24,
      "outputs": [
        {
          "output_type": "stream",
          "name": "stdout",
          "text": [
            "Matrix C:\n",
            "2 3 \n",
            "6 11 \n"
          ]
        }
      ]
    }
  ]
}